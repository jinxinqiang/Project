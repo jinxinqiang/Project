{
 "cells": [
  {
   "cell_type": "code",
   "execution_count": 3,
   "metadata": {
    "collapsed": true
   },
   "outputs": [
    {
     "name": "stdout",
     "output_type": "stream",
     "text": [
      "\n{\n    \"title\": [\n        {\n            \"text\": \"\\u6211\\u7684\\u7b2c\\u4e00\\u4e2a\\u56fe\\u8868\",\n            \"subtext\": \"\\u8fd9\\u91cc\\u662f\\u526f\\u6807\\u9898\",\n            \"left\": \"auto\",\n            \"top\": \"auto\",\n            \"textStyle\": {\n                \"fontSize\": 18\n            },\n            \"subtextStyle\": {\n                \"fontSize\": 12\n            }\n        }\n    ],\n    \"toolbox\": {\n        \"show\": true,\n        \"orient\": \"vertical\",\n        \"left\": \"95%\",\n        \"top\": \"center\",\n        \"feature\": {\n            \"saveAsImage\": {\n                \"show\": true,\n                \"title\": \"save as image\"\n            },\n            \"restore\": {\n                \"show\": true,\n                \"title\": \"restore\"\n            },\n            \"dataView\": {\n                \"show\": true,\n                \"title\": \"data view\"\n            },\n            \"magicType\": {\n                \"show\": true,\n                \"type\": [\n                    \"line\",\n                    \"bar\",\n                    \"stack\",\n                    \"tiled\"\n                ],\n                \"title\": {\n                    \"line\": \"\\u6298\\u7ebf\\u56fe\",\n                    \"bar\": \"\\u67f1\\u72b6\\u56fe\",\n                    \"stack\": \"\\u5806\\u53e0\",\n                    \"tiled\": \"\\u5e73\\u94fa\"\n                }\n            },\n            \"dataZoom\": {\n                \"show\": true,\n                \"title\": {\n                    \"zoom\": \"\\u533a\\u57df\\u7f29\\u653e\",\n                    \"back\": \"\\u7f29\\u653e\\u8fd8\\u539f\"\n                }\n            }\n        }\n    },\n    \"series_id\": 6601311,\n    \"tooltip\": {\n        \"trigger\": \"item\",\n        \"triggerOn\": \"mousemove|click\",\n        \"axisPointer\": {\n            \"type\": \"line\"\n        },\n        \"textStyle\": {\n            \"fontSize\": 14\n        },\n        \"backgroundColor\": \"rgba(50,50,50,0.7)\",\n        \"borderColor\": \"#333\",\n        \"borderWidth\": 0\n    },\n    \"series\": [\n        {\n            \"type\": \"bar\",\n            \"name\": \"\\u670d\\u88c5\",\n            \"data\": [\n                5,\n                20,\n                36,\n                10,\n                75,\n                90\n            ],\n            \"barCategoryGap\": \"20%\",\n            \"label\": {\n                \"normal\": {\n                    \"show\": false,\n                    \"position\": \"top\",\n                    \"textStyle\": {\n                        \"fontSize\": 12\n                    }\n                },\n                \"emphasis\": {\n                    \"show\": true,\n                    \"textStyle\": {\n                        \"fontSize\": 12\n                    }\n                }\n            },\n            \"markPoint\": {\n                \"data\": []\n            },\n            \"markLine\": {\n                \"data\": []\n            },\n            \"seriesId\": 6601311\n        }\n    ],\n    \"legend\": [\n        {\n            \"data\": [\n                \"\\u670d\\u88c5\"\n            ],\n            \"selectedMode\": \"multiple\",\n            \"show\": true,\n            \"left\": \"center\",\n            \"top\": \"top\",\n            \"orient\": \"horizontal\",\n            \"textStyle\": {\n                \"fontSize\": 12\n            }\n        }\n    ],\n    \"animation\": true,\n    \"xAxis\": [\n        {\n            \"show\": true,\n            \"nameLocation\": \"middle\",\n            \"nameGap\": 25,\n            \"nameTextStyle\": {\n                \"fontSize\": 14\n            },\n            \"axisTick\": {\n                \"alignWithLabel\": false\n            },\n            \"inverse\": false,\n            \"boundaryGap\": true,\n            \"type\": \"category\",\n            \"splitLine\": {\n                \"show\": false\n            },\n            \"axisLine\": {\n                \"lineStyle\": {\n                    \"width\": 1\n                }\n            },\n            \"axisLabel\": {\n                \"interval\": \"auto\",\n                \"rotate\": 0,\n                \"margin\": 8,\n                \"textStyle\": {\n                    \"fontSize\": 12\n                }\n            },\n            \"data\": [\n                \"\\u886c\\u886b\",\n                \"\\u7f8a\\u6bdb\\u886b\",\n                \"\\u96ea\\u7eba\\u886b\",\n                \"\\u88e4\\u5b50\",\n                \"\\u9ad8\\u8ddf\\u978b\",\n                \"\\u889c\\u5b50\"\n            ]\n        }\n    ],\n    \"yAxis\": [\n        {\n            \"show\": true,\n            \"nameLocation\": \"middle\",\n            \"nameGap\": 25,\n            \"nameTextStyle\": {\n                \"fontSize\": 14\n            },\n            \"axisTick\": {\n                \"alignWithLabel\": false\n            },\n            \"inverse\": false,\n            \"boundaryGap\": true,\n            \"type\": \"value\",\n            \"splitLine\": {\n                \"show\": true\n            },\n            \"axisLine\": {\n                \"lineStyle\": {\n                    \"width\": 1\n                }\n            },\n            \"axisLabel\": {\n                \"interval\": \"auto\",\n                \"formatter\": \"{value} \",\n                \"rotate\": 0,\n                \"margin\": 8,\n                \"textStyle\": {\n                    \"fontSize\": 12\n                }\n            }\n        }\n    ],\n    \"color\": [\n        \"#c23531\",\n        \"#2f4554\",\n        \"#61a0a8\",\n        \"#d48265\",\n        \"#749f83\",\n        \"#ca8622\",\n        \"#bda29a\",\n        \"#6e7074\",\n        \"#546570\",\n        \"#c4ccd3\",\n        \"#f05b72\",\n        \"#ef5b9c\",\n        \"#f47920\",\n        \"#905a3d\",\n        \"#fab27b\",\n        \"#2a5caa\",\n        \"#444693\",\n        \"#726930\",\n        \"#b2d235\",\n        \"#6d8346\",\n        \"#ac6767\",\n        \"#1d953f\",\n        \"#6950a1\",\n        \"#918597\",\n        \"#f6f5ec\"\n    ]\n}\n"
     ]
    }
   ],
   "source": [
    "import time\n",
    "import sys\n",
    "reload(sys)\n",
    "sys.setdefaultencoding('utf-8')\n",
    "\n",
    "\n",
    "from pyecharts import Bar\n",
    "bar = Bar(\"我的第一个图表\", \"这里是副标题\")\n",
    "bar.add(\"服装\", [\"衬衫\", \"羊毛衫\", \"雪纺衫\", \"裤子\", \"高跟鞋\", \"袜子\"], [5, 20, 36, 10, 75, 90],is_more_utils=True)\n",
    "bar.show_config()\n",
    "bar.render()"
   ]
  },
  {
   "cell_type": "code",
   "execution_count": 8,
   "metadata": {},
   "outputs": [],
   "source": [
    "# encoding: utf-8\n",
    "import time\n",
    "import sys\n",
    "# reload(sys)\n",
    "# sys.setdefaultencoding('utf-8')\n",
    "\n",
    "from pyecharts import Bar, Scatter3D\n",
    "from pyecharts import Page\n",
    "\n",
    "\n",
    "page = Page()         # step 1\n",
    "\n",
    "# bar\n",
    "attr = [\"衬衫\", \"羊毛衫\", \"雪纺衫\", \"裤子\", \"高跟鞋\", \"袜子\"]\n",
    "v1 = [5, 20, 36, 10, 75, 90]\n",
    "v2 = [10, 25, 8, 60, 20, 80]\n",
    "bar = Bar(\"柱状图数据堆叠示例\")\n",
    "bar.add(\"商家A\", attr, v1, is_stack=True)\n",
    "bar.add(\"商家B\", attr, v2, is_stack=True)\n",
    "page.add(bar)         # step 2\n",
    "\n",
    "\n",
    "\n",
    "# scatter3D\n",
    "import random\n",
    "data = [[random.randint(0, 100), random.randint(0, 100), random.randint(0, 100)] for _ in range(80)]\n",
    "range_color = ['#313695', '#4575b4', '#74add1', '#abd9e9', '#e0f3f8', '#ffffbf',\n",
    "               '#fee090', '#fdae61', '#f46d43', '#d73027', '#a50026']\n",
    "scatter3D = Scatter3D(\"3D 散点图示例\", width=1200, height=600)\n",
    "scatter3D.add(\"\", data, is_visualmap=True, visual_range_color=range_color)\n",
    "page.add(scatter3D)  # step 2\n",
    "\n",
    "page.render()        # step 3"
   ]
  },
  {
   "cell_type": "code",
   "execution_count": null,
   "metadata": {},
   "outputs": [],
   "source": []
  }
 ],
 "metadata": {
  "kernelspec": {
   "display_name": "Python 2",
   "language": "python",
   "name": "python2"
  },
  "language_info": {
   "codemirror_mode": {
    "name": "ipython",
    "version": 2
   },
   "file_extension": ".py",
   "mimetype": "text/x-python",
   "name": "python",
   "nbconvert_exporter": "python",
   "pygments_lexer": "ipython2",
   "version": "2.7.6"
  }
 },
 "nbformat": 4,
 "nbformat_minor": 0
}
