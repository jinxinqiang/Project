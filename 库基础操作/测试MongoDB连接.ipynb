{
 "cells": [
  {
   "cell_type": "markdown",
   "metadata": {},
   "source": [
    "http://www.runoob.com/python3/python-mongodb.html"
   ]
  },
  {
   "cell_type": "code",
   "execution_count": 15,
   "metadata": {
    "collapsed": true
   },
   "outputs": [
    {
     "name": "stdout",
     "output_type": "stream",
     "text": [
      "Collection(Database(MongoClient(host=['localhost:27017'], document_class=dict, tz_aware=False, connect=True), 'hourseprice'), 'data')\n"
     ]
    }
   ],
   "source": [
    "from pymongo import MongoClient\n",
    "import datetime\n",
    "\n",
    "client = MongoClient(\"localhost\",27017)\n",
    "db = client['hourseprice']\n",
    "mycol = db['data']\n",
    "\n",
    "print(mycol)\n",
    "# post = {\"author\": \"Mike\",\n",
    "#          \"text\": \"My first blog post!\",\n",
    "#          \"tags\": [\"mongodb\", \"python\", \"pymongo\"],\n",
    "#          \"date\": datetime.datetime.utcnow()}\n",
    "# \n",
    "# posts = db.posts\n",
    "# post_id = posts.insert_one(post).inserted_id\n",
    "# print (\"post id is \", post_id)"
   ]
  },
  {
   "cell_type": "markdown",
   "metadata": {},
   "source": [
    "添加数据"
   ]
  },
  {
   "cell_type": "code",
   "execution_count": 16,
   "metadata": {},
   "outputs": [
    {
     "name": "stdout",
     "output_type": "stream",
     "text": [
      "5b94af2157e0f31bac3fdb02\n"
     ]
    }
   ],
   "source": [
    "mydict = { \"name\": \"RUNOOB\", \"alexa\": \"10000\", \"url\": \"https://www.runoob.com\" }\n",
    "x = mycol.insert_one(mydict) \n",
    "print(x.inserted_id)\n"
   ]
  },
  {
   "cell_type": "code",
   "execution_count": 17,
   "metadata": {},
   "outputs": [
    {
     "name": "stdout",
     "output_type": "stream",
     "text": [
      "[ObjectId('5b94af2657e0f31bac3fdb03'), ObjectId('5b94af2657e0f31bac3fdb04'), ObjectId('5b94af2657e0f31bac3fdb05'), ObjectId('5b94af2657e0f31bac3fdb06'), ObjectId('5b94af2657e0f31bac3fdb07')]\n"
     ]
    }
   ],
   "source": [
    "mylist = [\n",
    "  { \"name\": \"Taobao\", \"alexa\": \"100\", \"url\": \"https://www.taobao.com\" },\n",
    "  { \"name\": \"QQ\", \"alexa\": \"101\", \"url\": \"https://www.qq.com\" },\n",
    "  { \"name\": \"Facebook\", \"alexa\": \"10\", \"url\": \"https://www.facebook.com\" },\n",
    "  { \"name\": \"知乎\", \"alexa\": \"103\", \"url\": \"https://www.zhihu.com\" },\n",
    "  { \"name\": \"Github\", \"alexa\": \"109\", \"url\": \"https://www.github.com\" }\n",
    "]\n",
    "x = mycol.insert_many(mylist)\n",
    " \n",
    "# 输出插入的所有文档对应的 _id 值\n",
    "print(x.inserted_ids)"
   ]
  },
  {
   "cell_type": "code",
   "execution_count": 18,
   "metadata": {},
   "outputs": [
    {
     "name": "stdout",
     "output_type": "stream",
     "text": [
      "[1, 2, 3, 4, 5]\n"
     ]
    }
   ],
   "source": [
    "mylist = [\n",
    "  { \"_id\": 1, \"name\": \"RUNOOB\", \"cn_name\": \"菜鸟教程\"},\n",
    "  { \"_id\": 2, \"name\": \"Google\", \"address\": \"Google 搜索\"},\n",
    "  { \"_id\": 3, \"name\": \"Facebook\", \"address\": \"脸书\"},\n",
    "  { \"_id\": 4, \"name\": \"Taobao\", \"address\": \"淘宝\"},\n",
    "  { \"_id\": 5, \"name\": \"Zhihu\", \"address\": \"知乎\"}\n",
    "]\n",
    " \n",
    "x = mycol.insert_many(mylist)\n",
    " \n",
    "# 输出插入的所有文档对应的 _id 值\n",
    "print(x.inserted_ids)"
   ]
  },
  {
   "cell_type": "markdown",
   "metadata": {},
   "source": [
    "Python Mongodb 查询文档"
   ]
  },
  {
   "cell_type": "code",
   "execution_count": 21,
   "metadata": {},
   "outputs": [
    {
     "name": "stdout",
     "output_type": "stream",
     "text": [
      "{'_id': ObjectId('5b94a8a057e0f31bac3fdafc'), 'name': 'jinxinqiang', 'alexa': '10000', 'url': 'https://www.runoob.com'}\n"
     ]
    }
   ],
   "source": [
    "x = mycol.find_one()\n",
    " \n",
    "print(x)"
   ]
  },
  {
   "cell_type": "code",
   "execution_count": 22,
   "metadata": {},
   "outputs": [
    {
     "name": "stdout",
     "output_type": "stream",
     "text": [
      "{'_id': ObjectId('5b94a8a057e0f31bac3fdafc'), 'name': 'jinxinqiang', 'alexa': '10000', 'url': 'https://www.runoob.com'}\n{'_id': ObjectId('5b94a92657e0f31bac3fdafd'), 'name': 'jinxinqiang', 'alexa': '10000', 'url': 'https://www.runoob.com'}\n{'_id': ObjectId('5b94a9cc57e0f31bac3fdafe'), 'name': 'jinxinqiang', 'alexa': '10000', 'url': 'https://www.runoob.com'}\n{'_id': ObjectId('5b94aeae57e0f31bac3fdaff'), 'name': 'RUNOOB', 'alexa': '10000', 'url': 'https://www.runoob.com'}\n{'_id': ObjectId('5b94af2157e0f31bac3fdb02'), 'name': 'RUNOOB', 'alexa': '10000', 'url': 'https://www.runoob.com'}\n{'_id': ObjectId('5b94af2657e0f31bac3fdb03'), 'name': 'Taobao', 'alexa': '100', 'url': 'https://www.taobao.com'}\n{'_id': ObjectId('5b94af2657e0f31bac3fdb04'), 'name': 'QQ', 'alexa': '101', 'url': 'https://www.qq.com'}\n{'_id': ObjectId('5b94af2657e0f31bac3fdb05'), 'name': 'Facebook', 'alexa': '10', 'url': 'https://www.facebook.com'}\n{'_id': ObjectId('5b94af2657e0f31bac3fdb06'), 'name': '知乎', 'alexa': '103', 'url': 'https://www.zhihu.com'}\n{'_id': ObjectId('5b94af2657e0f31bac3fdb07'), 'name': 'Github', 'alexa': '109', 'url': 'https://www.github.com'}\n{'_id': 1, 'name': 'RUNOOB', 'cn_name': '菜鸟教程'}\n{'_id': 2, 'name': 'Google', 'address': 'Google 搜索'}\n{'_id': 3, 'name': 'Facebook', 'address': '脸书'}\n{'_id': 4, 'name': 'Taobao', 'address': '淘宝'}\n{'_id': 5, 'name': 'Zhihu', 'address': '知乎'}\n"
     ]
    }
   ],
   "source": [
    "for x in mycol.find():\n",
    "  print(x)"
   ]
  },
  {
   "cell_type": "code",
   "execution_count": 27,
   "metadata": {},
   "outputs": [
    {
     "name": "stdout",
     "output_type": "stream",
     "text": [
      "{'_id': ObjectId('5b94a8a057e0f31bac3fdafc'), 'name': 'jinxinqiang', 'alexa': '10000', 'url': 'https://www.runoob.com'}\n{'_id': ObjectId('5b94a92657e0f31bac3fdafd'), 'name': 'jinxinqiang', 'alexa': '10000', 'url': 'https://www.runoob.com'}\n{'_id': ObjectId('5b94a9cc57e0f31bac3fdafe'), 'name': 'jinxinqiang', 'alexa': '10000', 'url': 'https://www.runoob.com'}\n"
     ]
    }
   ],
   "source": [
    "for x in mycol.find({\"name\": 'jinxinqiang'}):\n",
    "  print(x)"
   ]
  },
  {
   "cell_type": "code",
   "execution_count": 28,
   "metadata": {},
   "outputs": [
    {
     "name": "stdout",
     "output_type": "stream",
     "text": [
      "{'_id': ObjectId('5b94a8a057e0f31bac3fdafc'), 'name': 'jinxinqiang', 'alexa': '10000', 'url': 'https://www.runoob.com'}\n{'_id': ObjectId('5b94a92657e0f31bac3fdafd'), 'name': 'jinxinqiang', 'alexa': '10000', 'url': 'https://www.runoob.com'}\n{'_id': ObjectId('5b94a9cc57e0f31bac3fdafe'), 'name': 'jinxinqiang', 'alexa': '10000', 'url': 'https://www.runoob.com'}\n{'_id': ObjectId('5b94aeae57e0f31bac3fdaff'), 'name': 'RUNOOB', 'alexa': '10000', 'url': 'https://www.runoob.com'}\n{'_id': ObjectId('5b94af2157e0f31bac3fdb02'), 'name': 'RUNOOB', 'alexa': '10000', 'url': 'https://www.runoob.com'}\n{'_id': ObjectId('5b94af2657e0f31bac3fdb03'), 'name': 'Taobao', 'alexa': '100', 'url': 'https://www.taobao.com'}\n{'_id': ObjectId('5b94af2657e0f31bac3fdb04'), 'name': 'QQ', 'alexa': '101', 'url': 'https://www.qq.com'}\n{'_id': ObjectId('5b94af2657e0f31bac3fdb06'), 'name': '知乎', 'alexa': '103', 'url': 'https://www.zhihu.com'}\n{'_id': 1, 'name': 'RUNOOB', 'cn_name': '菜鸟教程'}\n{'_id': 4, 'name': 'Taobao', 'address': '淘宝'}\n{'_id': 5, 'name': 'Zhihu', 'address': '知乎'}\n"
     ]
    }
   ],
   "source": [
    "# 高级查询\n",
    "# 查询的条件语句中，我们还可以使用修饰符。\n",
    "# 以下实例用于读取 name 字段中第一个字母 ASCII 值大于 \"H\" 的数据，大于的修饰符条件为 {\"$gt\": \"H\"} \n",
    "myquery = { \"name\": { \"$gt\": \"H\" } }\n",
    " \n",
    "mydoc = mycol.find(myquery)\n",
    " \n",
    "for x in mydoc:\n",
    "  print(x)"
   ]
  },
  {
   "cell_type": "code",
   "execution_count": 29,
   "metadata": {},
   "outputs": [
    {
     "name": "stdout",
     "output_type": "stream",
     "text": [
      "{'_id': ObjectId('5b94a8a057e0f31bac3fdafc'), 'name': 'jinxinqiang', 'alexa': '10000', 'url': 'https://www.runoob.com'}\n{'_id': ObjectId('5b94a92657e0f31bac3fdafd'), 'name': 'jinxinqiang', 'alexa': '10000', 'url': 'https://www.runoob.com'}\n{'_id': ObjectId('5b94a9cc57e0f31bac3fdafe'), 'name': 'jinxinqiang', 'alexa': '10000', 'url': 'https://www.runoob.com'}\n"
     ]
    }
   ],
   "source": [
    "# 使用正则表达式查询\n",
    "# 我们还可以使用正则表达式作为修饰符。\n",
    "# 正则表达式修饰符只用于搜索字符串的字段。\n",
    "# 以下实例用于读取 name 字段中第一个字母为 \"R\" 的数据，正则表达式修饰符条件为 {\"$regex\": \"^R\"} :\n",
    "\n",
    "myquery = { \"name\": { \"$regex\": \"^jin\" } }\n",
    " \n",
    "mydoc = mycol.find(myquery)\n",
    " \n",
    "for x in mydoc:\n",
    "  print(x)"
   ]
  },
  {
   "cell_type": "code",
   "execution_count": 30,
   "metadata": {},
   "outputs": [
    {
     "name": "stdout",
     "output_type": "stream",
     "text": [
      "{'_id': ObjectId('5b94a8a057e0f31bac3fdafc'), 'name': 'jinxinqiang', 'alexa': '10000', 'url': 'https://www.runoob.com'}\n{'_id': ObjectId('5b94a92657e0f31bac3fdafd'), 'name': 'jinxinqiang', 'alexa': '10000', 'url': 'https://www.runoob.com'}\n{'_id': ObjectId('5b94a9cc57e0f31bac3fdafe'), 'name': 'jinxinqiang', 'alexa': '10000', 'url': 'https://www.runoob.com'}\n"
     ]
    }
   ],
   "source": [
    "myresult = mycol.find().limit(3)\n",
    " \n",
    "# 输出结果\n",
    "for x in myresult:\n",
    "  print(x)"
   ]
  },
  {
   "cell_type": "code",
   "execution_count": 31,
   "metadata": {},
   "outputs": [
    {
     "name": "stdout",
     "output_type": "stream",
     "text": [
      "{'_id': ObjectId('5b94a8a057e0f31bac3fdafc'), 'name': 'jinxinqiang', 'alexa': '12345', 'url': 'https://www.runoob.com'}\n{'_id': ObjectId('5b94a92657e0f31bac3fdafd'), 'name': 'jinxinqiang', 'alexa': '10000', 'url': 'https://www.runoob.com'}\n{'_id': ObjectId('5b94a9cc57e0f31bac3fdafe'), 'name': 'jinxinqiang', 'alexa': '10000', 'url': 'https://www.runoob.com'}\n{'_id': ObjectId('5b94aeae57e0f31bac3fdaff'), 'name': 'RUNOOB', 'alexa': '10000', 'url': 'https://www.runoob.com'}\n{'_id': ObjectId('5b94af2157e0f31bac3fdb02'), 'name': 'RUNOOB', 'alexa': '10000', 'url': 'https://www.runoob.com'}\n{'_id': ObjectId('5b94af2657e0f31bac3fdb03'), 'name': 'Taobao', 'alexa': '100', 'url': 'https://www.taobao.com'}\n{'_id': ObjectId('5b94af2657e0f31bac3fdb04'), 'name': 'QQ', 'alexa': '101', 'url': 'https://www.qq.com'}\n{'_id': ObjectId('5b94af2657e0f31bac3fdb05'), 'name': 'Facebook', 'alexa': '10', 'url': 'https://www.facebook.com'}\n{'_id': ObjectId('5b94af2657e0f31bac3fdb06'), 'name': '知乎', 'alexa': '103', 'url': 'https://www.zhihu.com'}\n{'_id': ObjectId('5b94af2657e0f31bac3fdb07'), 'name': 'Github', 'alexa': '109', 'url': 'https://www.github.com'}\n{'_id': 1, 'name': 'RUNOOB', 'cn_name': '菜鸟教程'}\n{'_id': 2, 'name': 'Google', 'address': 'Google 搜索'}\n{'_id': 3, 'name': 'Facebook', 'address': '脸书'}\n{'_id': 4, 'name': 'Taobao', 'address': '淘宝'}\n{'_id': 5, 'name': 'Zhihu', 'address': '知乎'}\n"
     ]
    }
   ],
   "source": [
    "myquery = { \"alexa\": \"10000\" }\n",
    "newvalues = { \"$set\": { \"alexa\": \"12345\" } }\n",
    "mycol.update_one(myquery, newvalues)\n",
    " \n",
    "# 输出修改后的  \"sites\"  集合\n",
    "for x in mycol.find():\n",
    "  print(x)"
   ]
  },
  {
   "cell_type": "code",
   "execution_count": 34,
   "metadata": {},
   "outputs": [
    {
     "name": "stdout",
     "output_type": "stream",
     "text": [
      "3 文档已修改\n"
     ]
    }
   ],
   "source": [
    "myquery = { \"name\": { \"$regex\": \"^jin\" } }\n",
    "newvalues = { \"$set\": { \"alexa\": \"10000\" } }\n",
    " \n",
    "x = mycol.update_many(myquery, newvalues)\n",
    " \n",
    "print(x.modified_count, \"文档已修改\")"
   ]
  },
  {
   "cell_type": "code",
   "execution_count": 35,
   "metadata": {},
   "outputs": [
    {
     "name": "stdout",
     "output_type": "stream",
     "text": [
      "{'_id': ObjectId('5b94a8a057e0f31bac3fdafc'), 'name': 'jinxinqiang', 'alexa': '10000', 'url': 'https://www.runoob.com'}\n{'_id': ObjectId('5b94a92657e0f31bac3fdafd'), 'name': 'jinxinqiang', 'alexa': '10000', 'url': 'https://www.runoob.com'}\n{'_id': ObjectId('5b94a9cc57e0f31bac3fdafe'), 'name': 'jinxinqiang', 'alexa': '10000', 'url': 'https://www.runoob.com'}\n{'_id': ObjectId('5b94aeae57e0f31bac3fdaff'), 'name': 'RUNOOB', 'alexa': '10000', 'url': 'https://www.runoob.com'}\n{'_id': ObjectId('5b94af2157e0f31bac3fdb02'), 'name': 'RUNOOB', 'alexa': '10000', 'url': 'https://www.runoob.com'}\n{'_id': ObjectId('5b94af2657e0f31bac3fdb03'), 'name': 'Taobao', 'alexa': '100', 'url': 'https://www.taobao.com'}\n{'_id': ObjectId('5b94af2657e0f31bac3fdb04'), 'name': 'QQ', 'alexa': '101', 'url': 'https://www.qq.com'}\n{'_id': ObjectId('5b94af2657e0f31bac3fdb05'), 'name': 'Facebook', 'alexa': '10', 'url': 'https://www.facebook.com'}\n{'_id': ObjectId('5b94af2657e0f31bac3fdb06'), 'name': '知乎', 'alexa': '103', 'url': 'https://www.zhihu.com'}\n{'_id': ObjectId('5b94af2657e0f31bac3fdb07'), 'name': 'Github', 'alexa': '109', 'url': 'https://www.github.com'}\n{'_id': 1, 'name': 'RUNOOB', 'cn_name': '菜鸟教程'}\n{'_id': 2, 'name': 'Google', 'address': 'Google 搜索'}\n{'_id': 3, 'name': 'Facebook', 'address': '脸书'}\n{'_id': 4, 'name': 'Taobao', 'address': '淘宝'}\n{'_id': 5, 'name': 'Zhihu', 'address': '知乎'}\n"
     ]
    }
   ],
   "source": [
    "for x in mycol.find():\n",
    "  print(x)"
   ]
  },
  {
   "cell_type": "code",
   "execution_count": 36,
   "metadata": {},
   "outputs": [
    {
     "name": "stdout",
     "output_type": "stream",
     "text": [
      "{'_id': 1, 'name': 'RUNOOB', 'cn_name': '菜鸟教程'}\n{'_id': 2, 'name': 'Google', 'address': 'Google 搜索'}\n{'_id': 3, 'name': 'Facebook', 'address': '脸书'}\n{'_id': 4, 'name': 'Taobao', 'address': '淘宝'}\n{'_id': 5, 'name': 'Zhihu', 'address': '知乎'}\n{'_id': ObjectId('5b94af2657e0f31bac3fdb05'), 'name': 'Facebook', 'alexa': '10', 'url': 'https://www.facebook.com'}\n{'_id': ObjectId('5b94af2657e0f31bac3fdb03'), 'name': 'Taobao', 'alexa': '100', 'url': 'https://www.taobao.com'}\n{'_id': ObjectId('5b94a8a057e0f31bac3fdafc'), 'name': 'jinxinqiang', 'alexa': '10000', 'url': 'https://www.runoob.com'}\n{'_id': ObjectId('5b94a92657e0f31bac3fdafd'), 'name': 'jinxinqiang', 'alexa': '10000', 'url': 'https://www.runoob.com'}\n{'_id': ObjectId('5b94a9cc57e0f31bac3fdafe'), 'name': 'jinxinqiang', 'alexa': '10000', 'url': 'https://www.runoob.com'}\n{'_id': ObjectId('5b94aeae57e0f31bac3fdaff'), 'name': 'RUNOOB', 'alexa': '10000', 'url': 'https://www.runoob.com'}\n{'_id': ObjectId('5b94af2157e0f31bac3fdb02'), 'name': 'RUNOOB', 'alexa': '10000', 'url': 'https://www.runoob.com'}\n{'_id': ObjectId('5b94af2657e0f31bac3fdb04'), 'name': 'QQ', 'alexa': '101', 'url': 'https://www.qq.com'}\n{'_id': ObjectId('5b94af2657e0f31bac3fdb06'), 'name': '知乎', 'alexa': '103', 'url': 'https://www.zhihu.com'}\n{'_id': ObjectId('5b94af2657e0f31bac3fdb07'), 'name': 'Github', 'alexa': '109', 'url': 'https://www.github.com'}\n"
     ]
    }
   ],
   "source": [
    "mydoc = mycol.find().sort(\"alexa\")\n",
    "for x in mydoc:\n",
    "  print(x)"
   ]
  },
  {
   "cell_type": "code",
   "execution_count": 37,
   "metadata": {},
   "outputs": [
    {
     "name": "stdout",
     "output_type": "stream",
     "text": [
      "{'_id': ObjectId('5b94af2657e0f31bac3fdb07'), 'name': 'Github', 'alexa': '109', 'url': 'https://www.github.com'}\n{'_id': ObjectId('5b94af2657e0f31bac3fdb06'), 'name': '知乎', 'alexa': '103', 'url': 'https://www.zhihu.com'}\n{'_id': ObjectId('5b94af2657e0f31bac3fdb04'), 'name': 'QQ', 'alexa': '101', 'url': 'https://www.qq.com'}\n{'_id': ObjectId('5b94a8a057e0f31bac3fdafc'), 'name': 'jinxinqiang', 'alexa': '10000', 'url': 'https://www.runoob.com'}\n{'_id': ObjectId('5b94a92657e0f31bac3fdafd'), 'name': 'jinxinqiang', 'alexa': '10000', 'url': 'https://www.runoob.com'}\n{'_id': ObjectId('5b94a9cc57e0f31bac3fdafe'), 'name': 'jinxinqiang', 'alexa': '10000', 'url': 'https://www.runoob.com'}\n{'_id': ObjectId('5b94aeae57e0f31bac3fdaff'), 'name': 'RUNOOB', 'alexa': '10000', 'url': 'https://www.runoob.com'}\n{'_id': ObjectId('5b94af2157e0f31bac3fdb02'), 'name': 'RUNOOB', 'alexa': '10000', 'url': 'https://www.runoob.com'}\n{'_id': ObjectId('5b94af2657e0f31bac3fdb03'), 'name': 'Taobao', 'alexa': '100', 'url': 'https://www.taobao.com'}\n{'_id': ObjectId('5b94af2657e0f31bac3fdb05'), 'name': 'Facebook', 'alexa': '10', 'url': 'https://www.facebook.com'}\n{'_id': 1, 'name': 'RUNOOB', 'cn_name': '菜鸟教程'}\n{'_id': 2, 'name': 'Google', 'address': 'Google 搜索'}\n{'_id': 3, 'name': 'Facebook', 'address': '脸书'}\n{'_id': 4, 'name': 'Taobao', 'address': '淘宝'}\n{'_id': 5, 'name': 'Zhihu', 'address': '知乎'}\n"
     ]
    }
   ],
   "source": [
    "mydoc = mycol.find().sort(\"alexa\", -1)\n",
    " \n",
    "for x in mydoc:\n",
    "  print(x)"
   ]
  },
  {
   "cell_type": "code",
   "execution_count": 38,
   "metadata": {},
   "outputs": [
    {
     "name": "stdout",
     "output_type": "stream",
     "text": [
      "{'_id': ObjectId('5b94a8a057e0f31bac3fdafc'), 'name': 'jinxinqiang', 'alexa': '10000', 'url': 'https://www.runoob.com'}\n{'_id': ObjectId('5b94a92657e0f31bac3fdafd'), 'name': 'jinxinqiang', 'alexa': '10000', 'url': 'https://www.runoob.com'}\n{'_id': ObjectId('5b94a9cc57e0f31bac3fdafe'), 'name': 'jinxinqiang', 'alexa': '10000', 'url': 'https://www.runoob.com'}\n{'_id': ObjectId('5b94aeae57e0f31bac3fdaff'), 'name': 'RUNOOB', 'alexa': '10000', 'url': 'https://www.runoob.com'}\n{'_id': ObjectId('5b94af2157e0f31bac3fdb02'), 'name': 'RUNOOB', 'alexa': '10000', 'url': 'https://www.runoob.com'}\n{'_id': ObjectId('5b94af2657e0f31bac3fdb04'), 'name': 'QQ', 'alexa': '101', 'url': 'https://www.qq.com'}\n{'_id': ObjectId('5b94af2657e0f31bac3fdb05'), 'name': 'Facebook', 'alexa': '10', 'url': 'https://www.facebook.com'}\n{'_id': ObjectId('5b94af2657e0f31bac3fdb06'), 'name': '知乎', 'alexa': '103', 'url': 'https://www.zhihu.com'}\n{'_id': ObjectId('5b94af2657e0f31bac3fdb07'), 'name': 'Github', 'alexa': '109', 'url': 'https://www.github.com'}\n{'_id': 1, 'name': 'RUNOOB', 'cn_name': '菜鸟教程'}\n{'_id': 2, 'name': 'Google', 'address': 'Google 搜索'}\n{'_id': 3, 'name': 'Facebook', 'address': '脸书'}\n{'_id': 4, 'name': 'Taobao', 'address': '淘宝'}\n{'_id': 5, 'name': 'Zhihu', 'address': '知乎'}\n"
     ]
    }
   ],
   "source": [
    "myquery = { \"name\": \"Taobao\" }\n",
    " \n",
    "mycol.delete_one(myquery)\n",
    " \n",
    "# 删除后输出\n",
    "for x in mycol.find():\n",
    "  print(x)"
   ]
  },
  {
   "cell_type": "code",
   "execution_count": 39,
   "metadata": {},
   "outputs": [
    {
     "name": "stdout",
     "output_type": "stream",
     "text": [
      "3 个文档已删除\n"
     ]
    }
   ],
   "source": [
    "myquery = { \"name\": {\"$regex\": \"^RUN\"} }\n",
    " \n",
    "x = mycol.delete_many(myquery)\n",
    " \n",
    "print(x.deleted_count, \"个文档已删除\")\n",
    "\n",
    "for x in mycol.find():\n",
    "  print(x)"
   ]
  },
  {
   "cell_type": "code",
   "execution_count": null,
   "metadata": {},
   "outputs": [],
   "source": [
    "# 删除集合中的所有文档\n",
    "x = mycol.delete_many({})\n",
    " \n",
    "print(x.deleted_count, \"个文档已删除\")"
   ]
  },
  {
   "cell_type": "code",
   "execution_count": null,
   "metadata": {},
   "outputs": [],
   "source": [
    "# 删除集合\n",
    "mycol.drop()\n",
    "# 如果删除成功 drop() 返回 true，如果删除失败(集合不存在)则返回 false。"
   ]
  }
 ],
 "metadata": {
  "kernelspec": {
   "display_name": "Python 2",
   "language": "python",
   "name": "python2"
  },
  "language_info": {
   "codemirror_mode": {
    "name": "ipython",
    "version": 2
   },
   "file_extension": ".py",
   "mimetype": "text/x-python",
   "name": "python",
   "nbconvert_exporter": "python",
   "pygments_lexer": "ipython2",
   "version": "2.7.6"
  }
 },
 "nbformat": 4,
 "nbformat_minor": 0
}
