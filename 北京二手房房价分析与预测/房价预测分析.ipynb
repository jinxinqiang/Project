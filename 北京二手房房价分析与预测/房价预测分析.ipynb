{
 "cells": [
  {
   "cell_type": "markdown",
   "metadata": {},
   "source": [
    "https://mp.weixin.qq.com/s?__biz=MzUzODYwMDAzNA==&mid=2247484320&idx=1&sn=c4b2978c842e7e82eae00c800d099671&chksm=fad474adcda3fdbbf2c24b7a4d854f5b76c04c334c911dcc301930a2c53d0578f6a54570f790&scene=21#wechat_redirect"
   ]
  },
  {
   "cell_type": "code",
   "execution_count": 8,
   "metadata": {
    "collapsed": true
   },
   "outputs": [],
   "source": [
    "\n",
    "import numpy as np\n",
    "import seaborn as sns\n",
    "import matplotlib\n",
    "import matplotlib.pyplot as plt\n",
    "# from IPython.display import display\n",
    "plt.style.use(\"fivethirtyeight\")\n",
    "sns.set_style({'font.sans-serif':['simhei','Arial']})\n",
    "# %matplotlib inline\n",
    "\n",
    "# 检查Python版本\n",
    "from sys import version_info\n",
    "if version_info.major != 3:\n",
    "    raise Exception('请使用Python 3 来完成此项目')"
   ]
  },
  {
   "cell_type": "code",
   "execution_count": 116,
   "metadata": {},
   "outputs": [
    {
     "data": {
      "text/html": [
       "<div>\n",
       "<style>\n",
       "    .dataframe thead tr:only-child th {\n",
       "        text-align: right;\n",
       "    }\n",
       "\n",
       "    .dataframe thead th {\n",
       "        text-align: left;\n",
       "    }\n",
       "\n",
       "    .dataframe tbody tr th {\n",
       "        vertical-align: top;\n",
       "    }\n",
       "</style>\n",
       "<table border=\"1\" class=\"dataframe\">\n",
       "  <thead>\n",
       "    <tr style=\"text-align: right;\">\n",
       "      <th></th>\n",
       "      <th>Floor</th>\n",
       "      <th>Id</th>\n",
       "      <th>Price</th>\n",
       "      <th>Size</th>\n",
       "      <th>Year</th>\n",
       "    </tr>\n",
       "  </thead>\n",
       "  <tbody>\n",
       "    <tr>\n",
       "      <th>count</th>\n",
       "      <td>23677.000000</td>\n",
       "      <td>2.367700e+04</td>\n",
       "      <td>23677.000000</td>\n",
       "      <td>23677.000000</td>\n",
       "      <td>23677.000000</td>\n",
       "    </tr>\n",
       "    <tr>\n",
       "      <th>mean</th>\n",
       "      <td>12.765088</td>\n",
       "      <td>1.011024e+11</td>\n",
       "      <td>610.668319</td>\n",
       "      <td>99.149301</td>\n",
       "      <td>2001.326519</td>\n",
       "    </tr>\n",
       "    <tr>\n",
       "      <th>std</th>\n",
       "      <td>7.643932</td>\n",
       "      <td>5.652477e+05</td>\n",
       "      <td>411.452107</td>\n",
       "      <td>50.988838</td>\n",
       "      <td>9.001996</td>\n",
       "    </tr>\n",
       "    <tr>\n",
       "      <th>min</th>\n",
       "      <td>1.000000</td>\n",
       "      <td>1.010886e+11</td>\n",
       "      <td>60.000000</td>\n",
       "      <td>2.000000</td>\n",
       "      <td>1950.000000</td>\n",
       "    </tr>\n",
       "    <tr>\n",
       "      <th>25%</th>\n",
       "      <td>6.000000</td>\n",
       "      <td>1.011022e+11</td>\n",
       "      <td>365.000000</td>\n",
       "      <td>66.000000</td>\n",
       "      <td>1997.000000</td>\n",
       "    </tr>\n",
       "    <tr>\n",
       "      <th>50%</th>\n",
       "      <td>11.000000</td>\n",
       "      <td>1.011025e+11</td>\n",
       "      <td>499.000000</td>\n",
       "      <td>88.000000</td>\n",
       "      <td>2003.000000</td>\n",
       "    </tr>\n",
       "    <tr>\n",
       "      <th>75%</th>\n",
       "      <td>18.000000</td>\n",
       "      <td>1.011027e+11</td>\n",
       "      <td>717.000000</td>\n",
       "      <td>118.000000</td>\n",
       "      <td>2007.000000</td>\n",
       "    </tr>\n",
       "    <tr>\n",
       "      <th>max</th>\n",
       "      <td>57.000000</td>\n",
       "      <td>1.011028e+11</td>\n",
       "      <td>6000.000000</td>\n",
       "      <td>1019.000000</td>\n",
       "      <td>2017.000000</td>\n",
       "    </tr>\n",
       "  </tbody>\n",
       "</table>\n",
       "</div>"
      ],
      "text/plain": [
       "<div>\n",
       "<style>\n",
       "    .dataframe thead tr:only-child th {\n",
       "        text-align: right;\n",
       "    }\n",
       "\n",
       "    .dataframe thead th {\n",
       "        text-align: left;\n",
       "    }\n",
       "\n",
       "    .dataframe tbody tr th {\n",
       "        vertical-align: top;\n",
       "    }\n",
       "</style>\n",
       "<table border=\"1\" class=\"dataframe\">\n",
       "  <thead>\n",
       "    <tr style=\"text-align: right;\">\n",
       "      <th></th>\n",
       "      <th>Floor</th>\n",
       "      <th>Id</th>\n",
       "      <th>Price</th>\n",
       "      <th>Size</th>\n",
       "      <th>Year</th>\n",
       "    </tr>\n",
       "  </thead>\n",
       "  <tbody>\n",
       "    <tr>\n",
       "      <th>count</th>\n",
       "      <td>23677.000000</td>\n",
       "      <td>2.367700e+04</td>\n",
       "      <td>23677.000000</td>\n",
       "      <td>23677.000000</td>\n",
       "      <td>23677.000000</td>\n",
       "    </tr>\n",
       "    <tr>\n",
       "      <th>mean</th>\n",
       "      <td>12.765088</td>\n",
       "      <td>1.011024e+11</td>\n",
       "      <td>610.668319</td>\n",
       "      <td>99.149301</td>\n",
       "      <td>2001.326519</td>\n",
       "    </tr>\n",
       "    <tr>\n",
       "      <th>std</th>\n",
       "      <td>7.643932</td>\n",
       "      <td>5.652477e+05</td>\n",
       "      <td>411.452107</td>\n",
       "      <td>50.988838</td>\n",
       "      <td>9.001996</td>\n",
       "    </tr>\n",
       "    <tr>\n",
       "      <th>min</th>\n",
       "      <td>1.000000</td>\n",
       "      <td>1.010886e+11</td>\n",
       "      <td>60.000000</td>\n",
       "      <td>2.000000</td>\n",
       "      <td>1950.000000</td>\n",
       "    </tr>\n",
       "    <tr>\n",
       "      <th>25%</th>\n",
       "      <td>6.000000</td>\n",
       "      <td>1.011022e+11</td>\n",
       "      <td>365.000000</td>\n",
       "      <td>66.000000</td>\n",
       "      <td>1997.000000</td>\n",
       "    </tr>\n",
       "    <tr>\n",
       "      <th>50%</th>\n",
       "      <td>11.000000</td>\n",
       "      <td>1.011025e+11</td>\n",
       "      <td>499.000000</td>\n",
       "      <td>88.000000</td>\n",
       "      <td>2003.000000</td>\n",
       "    </tr>\n",
       "    <tr>\n",
       "      <th>75%</th>\n",
       "      <td>18.000000</td>\n",
       "      <td>1.011027e+11</td>\n",
       "      <td>717.000000</td>\n",
       "      <td>118.000000</td>\n",
       "      <td>2007.000000</td>\n",
       "    </tr>\n",
       "    <tr>\n",
       "      <th>max</th>\n",
       "      <td>57.000000</td>\n",
       "      <td>1.011028e+11</td>\n",
       "      <td>6000.000000</td>\n",
       "      <td>1019.000000</td>\n",
       "      <td>2017.000000</td>\n",
       "    </tr>\n",
       "  </tbody>\n",
       "</table>\n",
       "</div>"
      ]
     },
     "execution_count": 116,
     "metadata": {},
     "output_type": "execute_result"
    }
   ],
   "source": [
    "import pandas as pd\n",
    "lianjia_df = pd.read_excel(r'A:\\PythonProject\\北京二手房房价分析与预测\\链家.xlsx')\n",
    "lianjia_df.describe()"
   ]
  },
  {
   "cell_type": "code",
   "execution_count": 44,
   "metadata": {
    "collapsed": true
   },
   "outputs": [
    {
     "name": "stdout",
     "output_type": "stream",
     "text": [
      "   Direction District Elevator  Floor     Garden            Id Layout   Price  \\\n3         南北       东单      无电梯    6.0      东华门大街  1.011027e+11   2室1厅   705.0   \n5         南西      崇文门      有电梯   16.0      新世界中心  1.011027e+11   3室1厅  1400.0   \n9          南      陶然亭      有电梯   19.0     中海紫御公馆  1.011026e+11   2室2厅   998.0   \n11        南北      广渠门      有电梯   18.0     幸福家园二期  1.011024e+11   2室1厅  1180.0   \n13         南      西罗园      无电梯    6.0  西革新里110号院  1.011026e+11   1室1厅   319.0   \n\n   Region Renovation   Size    Year  \n3      东城         精装   60.0  1988.0  \n5      东城         其他  210.0  1996.0  \n9      东城         精装   90.0  2010.0  \n11     东城         其他  111.0  2003.0  \n13     东城         其他   42.0  1992.0  \n"
     ]
    }
   ],
   "source": [
    "print(lianjia_df.head(5))"
   ]
  },
  {
   "cell_type": "code",
   "execution_count": 117,
   "metadata": {
    "collapsed": true
   },
   "outputs": [],
   "source": [
    "lianjia_df = lianjia_df.dropna()"
   ]
  },
  {
   "cell_type": "code",
   "execution_count": 45,
   "metadata": {
    "collapsed": true
   },
   "outputs": [
    {
     "name": "stdout",
     "output_type": "stream",
     "text": [
      "<class 'pandas.core.frame.DataFrame'>\nInt64Index: 15440 entries, 3 to 47333\nData columns (total 12 columns):\nDirection     15440 non-null object\nDistrict      15440 non-null object\nElevator      15440 non-null object\nFloor         15440 non-null float64\nGarden        15440 non-null object\nId            15440 non-null float64\nLayout        15440 non-null object\nPrice         15440 non-null float64\nRegion        15440 non-null object\nRenovation    15440 non-null object\nSize          15440 non-null float64\nYear          15440 non-null float64\ndtypes: float64(5), object(7)\nmemory usage: 1.5+ MB\n"
     ]
    }
   ],
   "source": [
    "# 检查缺失值情况\n",
    "lianjia_df.info()"
   ]
  },
  {
   "cell_type": "code",
   "execution_count": 118,
   "metadata": {
    "collapsed": true
   },
   "outputs": [
    {
     "data": {
      "text/html": [
       "<div>\n",
       "<style>\n",
       "    .dataframe thead tr:only-child th {\n",
       "        text-align: right;\n",
       "    }\n",
       "\n",
       "    .dataframe thead th {\n",
       "        text-align: left;\n",
       "    }\n",
       "\n",
       "    .dataframe tbody tr th {\n",
       "        vertical-align: top;\n",
       "    }\n",
       "</style>\n",
       "<table border=\"1\" class=\"dataframe\">\n",
       "  <thead>\n",
       "    <tr style=\"text-align: right;\">\n",
       "      <th></th>\n",
       "      <th>Region</th>\n",
       "      <th>District</th>\n",
       "      <th>Garden</th>\n",
       "      <th>Layout</th>\n",
       "      <th>Floor</th>\n",
       "      <th>Year</th>\n",
       "      <th>Size</th>\n",
       "      <th>Elevator</th>\n",
       "      <th>Direction</th>\n",
       "      <th>Renovation</th>\n",
       "      <th>PerPrice</th>\n",
       "      <th>Price</th>\n",
       "    </tr>\n",
       "  </thead>\n",
       "  <tbody>\n",
       "    <tr>\n",
       "      <th>3</th>\n",
       "      <td>东城</td>\n",
       "      <td>东单</td>\n",
       "      <td>东华门大街</td>\n",
       "      <td>2室1厅</td>\n",
       "      <td>6.0</td>\n",
       "      <td>1988.0</td>\n",
       "      <td>60.0</td>\n",
       "      <td>无电梯</td>\n",
       "      <td>南北</td>\n",
       "      <td>精装</td>\n",
       "      <td>11.750000</td>\n",
       "      <td>705.0</td>\n",
       "    </tr>\n",
       "    <tr>\n",
       "      <th>5</th>\n",
       "      <td>东城</td>\n",
       "      <td>崇文门</td>\n",
       "      <td>新世界中心</td>\n",
       "      <td>3室1厅</td>\n",
       "      <td>16.0</td>\n",
       "      <td>1996.0</td>\n",
       "      <td>210.0</td>\n",
       "      <td>有电梯</td>\n",
       "      <td>南西</td>\n",
       "      <td>其他</td>\n",
       "      <td>6.666667</td>\n",
       "      <td>1400.0</td>\n",
       "    </tr>\n",
       "  </tbody>\n",
       "</table>\n",
       "</div>"
      ],
      "text/plain": [
       "<div>\n",
       "<style>\n",
       "    .dataframe thead tr:only-child th {\n",
       "        text-align: right;\n",
       "    }\n",
       "\n",
       "    .dataframe thead th {\n",
       "        text-align: left;\n",
       "    }\n",
       "\n",
       "    .dataframe tbody tr th {\n",
       "        vertical-align: top;\n",
       "    }\n",
       "</style>\n",
       "<table border=\"1\" class=\"dataframe\">\n",
       "  <thead>\n",
       "    <tr style=\"text-align: right;\">\n",
       "      <th></th>\n",
       "      <th>Region</th>\n",
       "      <th>District</th>\n",
       "      <th>Garden</th>\n",
       "      <th>Layout</th>\n",
       "      <th>Floor</th>\n",
       "      <th>Year</th>\n",
       "      <th>Size</th>\n",
       "      <th>Elevator</th>\n",
       "      <th>Direction</th>\n",
       "      <th>Renovation</th>\n",
       "      <th>PerPrice</th>\n",
       "      <th>Price</th>\n",
       "    </tr>\n",
       "  </thead>\n",
       "  <tbody>\n",
       "    <tr>\n",
       "      <th>3</th>\n",
       "      <td>东城</td>\n",
       "      <td>东单</td>\n",
       "      <td>东华门大街</td>\n",
       "      <td>2室1厅</td>\n",
       "      <td>6.0</td>\n",
       "      <td>1988.0</td>\n",
       "      <td>60.0</td>\n",
       "      <td>无电梯</td>\n",
       "      <td>南北</td>\n",
       "      <td>精装</td>\n",
       "      <td>11.750000</td>\n",
       "      <td>705.0</td>\n",
       "    </tr>\n",
       "    <tr>\n",
       "      <th>5</th>\n",
       "      <td>东城</td>\n",
       "      <td>崇文门</td>\n",
       "      <td>新世界中心</td>\n",
       "      <td>3室1厅</td>\n",
       "      <td>16.0</td>\n",
       "      <td>1996.0</td>\n",
       "      <td>210.0</td>\n",
       "      <td>有电梯</td>\n",
       "      <td>南西</td>\n",
       "      <td>其他</td>\n",
       "      <td>6.666667</td>\n",
       "      <td>1400.0</td>\n",
       "    </tr>\n",
       "  </tbody>\n",
       "</table>\n",
       "</div>"
      ]
     },
     "execution_count": 118,
     "metadata": {},
     "output_type": "execute_result"
    }
   ],
   "source": [
    "# 添加新特征房屋均价\n",
    "df = lianjia_df.copy()\n",
    "df['PerPrice'] = lianjia_df['Price']/lianjia_df['Size']\n",
    "\n",
    "# 重新摆放列位置\n",
    "columns = ['Region', 'District', 'Garden', 'Layout', 'Floor', 'Year', 'Size', 'Elevator', 'Direction', 'Renovation', 'PerPrice', 'Price']\n",
    "df = pd.DataFrame(df, columns = columns)\n",
    "\n",
    "# 重新审视数据集\n",
    "df.head(n=2)"
   ]
  },
  {
   "cell_type": "code",
   "execution_count": 78,
   "metadata": {
    "collapsed": false
   },
   "outputs": [
    {
     "name": "stdout",
     "output_type": "stream",
     "text": [
      "  Region District Garden Layout  Floor    Year   Size Elevator Direction  \\\n3     东城       东单  东华门大街   2室1厅    6.0  1988.0   60.0      无电梯        南北   \n5     东城      崇文门  新世界中心   3室1厅   16.0  1996.0  210.0      有电梯        南西   \n\n  Renovation   PerPrice   Price  \n3         精装  11.750000   705.0  \n5         其他   6.666667  1400.0  \n"
     ]
    }
   ],
   "source": [
    "print(df.head(2))"
   ]
  },
  {
   "cell_type": "code",
   "execution_count": 77,
   "metadata": {
    "collapsed": false
   },
   "outputs": [
    {
     "data": {
      "image/png": "[encoded data removed]",
      "text/plain": [
       "<matplotlib.figure.Figure at 0x227fb838128>"
      ]
     },
     "metadata": {},
     "output_type": "display_data"
    }
   ],
   "source": [
    "# 对二手房区域分组对比二手房数量和每平米房价\n",
    "df_house_count = df.groupby('Region')['Price'].count().\\\n",
    "    sort_values(ascending=False).to_frame().reset_index()\n",
    "df_house_mean = df.groupby('Region')['PerPrice'].mean().\\\n",
    "    sort_values(ascending=False).to_frame().reset_index()\n",
    "\n",
    "import matplotlib.pyplot as plt\n",
    "import seaborn as sns\n",
    "%matplotlib inline\n",
    "\n",
    "f, [ax1,ax2,ax3] = plt.subplots(3,1)\n",
    "sns.barplot(x='Region', y='PerPrice', palette=\"Blues_d\", data=df_house_mean, ax=ax1)\n",
    "ax1.set_title('北京各大区二手房每平米单价对比',fontsize=15)\n",
    "ax1.set_xlabel('区域')\n",
    "ax1.set_ylabel('每平米单价')\n",
    "\n",
    "sns.barplot(x='Region', y='Price', palette=\"Greens_d\", data=df_house_count, ax=ax2)\n",
    "ax2.set_title('北京各大区二手房数量对比',fontsize=15)\n",
    "ax2.set_xlabel('区域')\n",
    "ax2.set_ylabel('数量')\n",
    "\n",
    "sns.boxplot(x='Region', y='Price',palette=\"Reds_d\", data=df, ax=ax3)\n",
    "ax3.set_title('北京各大区二手房房屋总价',fontsize=15)\n",
    "ax3.set_xlabel('区域')\n",
    "ax3.set_ylabel('房屋总价')\n",
    "\n",
    "plt.show()"
   ]
  },
  {
   "cell_type": "code",
   "execution_count": 53,
   "metadata": {
    "collapsed": true
   },
   "outputs": [
    {
     "data": {
      "text/html": [
       "<div>\n",
       "<style>\n",
       "    .dataframe thead tr:only-child th {\n",
       "        text-align: right;\n",
       "    }\n",
       "\n",
       "    .dataframe thead th {\n",
       "        text-align: left;\n",
       "    }\n",
       "\n",
       "    .dataframe tbody tr th {\n",
       "        vertical-align: top;\n",
       "    }\n",
       "</style>\n",
       "<table border=\"1\" class=\"dataframe\">\n",
       "  <thead>\n",
       "    <tr style=\"text-align: right;\">\n",
       "      <th></th>\n",
       "      <th>Region</th>\n",
       "      <th>Price</th>\n",
       "    </tr>\n",
       "  </thead>\n",
       "  <tbody>\n",
       "    <tr>\n",
       "      <th>0</th>\n",
       "      <td>丰台</td>\n",
       "      <td>2055</td>\n",
       "    </tr>\n",
       "    <tr>\n",
       "      <th>1</th>\n",
       "      <td>海淀</td>\n",
       "      <td>2009</td>\n",
       "    </tr>\n",
       "    <tr>\n",
       "      <th>2</th>\n",
       "      <td>朝阳</td>\n",
       "      <td>1852</td>\n",
       "    </tr>\n",
       "    <tr>\n",
       "      <th>3</th>\n",
       "      <td>昌平</td>\n",
       "      <td>1723</td>\n",
       "    </tr>\n",
       "    <tr>\n",
       "      <th>4</th>\n",
       "      <td>西城</td>\n",
       "      <td>1469</td>\n",
       "    </tr>\n",
       "    <tr>\n",
       "      <th>5</th>\n",
       "      <td>大兴</td>\n",
       "      <td>1379</td>\n",
       "    </tr>\n",
       "    <tr>\n",
       "      <th>6</th>\n",
       "      <td>东城</td>\n",
       "      <td>1107</td>\n",
       "    </tr>\n",
       "    <tr>\n",
       "      <th>7</th>\n",
       "      <td>通州</td>\n",
       "      <td>1095</td>\n",
       "    </tr>\n",
       "    <tr>\n",
       "      <th>8</th>\n",
       "      <td>房山</td>\n",
       "      <td>783</td>\n",
       "    </tr>\n",
       "    <tr>\n",
       "      <th>9</th>\n",
       "      <td>顺义</td>\n",
       "      <td>642</td>\n",
       "    </tr>\n",
       "    <tr>\n",
       "      <th>10</th>\n",
       "      <td>石景山</td>\n",
       "      <td>604</td>\n",
       "    </tr>\n",
       "    <tr>\n",
       "      <th>11</th>\n",
       "      <td>门头沟</td>\n",
       "      <td>366</td>\n",
       "    </tr>\n",
       "    <tr>\n",
       "      <th>12</th>\n",
       "      <td>亦庄开发区</td>\n",
       "      <td>356</td>\n",
       "    </tr>\n",
       "  </tbody>\n",
       "</table>\n",
       "</div>"
      ],
      "text/plain": [
       "<div>\n",
       "<style>\n",
       "    .dataframe thead tr:only-child th {\n",
       "        text-align: right;\n",
       "    }\n",
       "\n",
       "    .dataframe thead th {\n",
       "        text-align: left;\n",
       "    }\n",
       "\n",
       "    .dataframe tbody tr th {\n",
       "        vertical-align: top;\n",
       "    }\n",
       "</style>\n",
       "<table border=\"1\" class=\"dataframe\">\n",
       "  <thead>\n",
       "    <tr style=\"text-align: right;\">\n",
       "      <th></th>\n",
       "      <th>Region</th>\n",
       "      <th>Price</th>\n",
       "    </tr>\n",
       "  </thead>\n",
       "  <tbody>\n",
       "    <tr>\n",
       "      <th>0</th>\n",
       "      <td>丰台</td>\n",
       "      <td>2055</td>\n",
       "    </tr>\n",
       "    <tr>\n",
       "      <th>1</th>\n",
       "      <td>海淀</td>\n",
       "      <td>2009</td>\n",
       "    </tr>\n",
       "    <tr>\n",
       "      <th>2</th>\n",
       "      <td>朝阳</td>\n",
       "      <td>1852</td>\n",
       "    </tr>\n",
       "    <tr>\n",
       "      <th>3</th>\n",
       "      <td>昌平</td>\n",
       "      <td>1723</td>\n",
       "    </tr>\n",
       "    <tr>\n",
       "      <th>4</th>\n",
       "      <td>西城</td>\n",
       "      <td>1469</td>\n",
       "    </tr>\n",
       "    <tr>\n",
       "      <th>5</th>\n",
       "      <td>大兴</td>\n",
       "      <td>1379</td>\n",
       "    </tr>\n",
       "    <tr>\n",
       "      <th>6</th>\n",
       "      <td>东城</td>\n",
       "      <td>1107</td>\n",
       "    </tr>\n",
       "    <tr>\n",
       "      <th>7</th>\n",
       "      <td>通州</td>\n",
       "      <td>1095</td>\n",
       "    </tr>\n",
       "    <tr>\n",
       "      <th>8</th>\n",
       "      <td>房山</td>\n",
       "      <td>783</td>\n",
       "    </tr>\n",
       "    <tr>\n",
       "      <th>9</th>\n",
       "      <td>顺义</td>\n",
       "      <td>642</td>\n",
       "    </tr>\n",
       "    <tr>\n",
       "      <th>10</th>\n",
       "      <td>石景山</td>\n",
       "      <td>604</td>\n",
       "    </tr>\n",
       "    <tr>\n",
       "      <th>11</th>\n",
       "      <td>门头沟</td>\n",
       "      <td>366</td>\n",
       "    </tr>\n",
       "    <tr>\n",
       "      <th>12</th>\n",
       "      <td>亦庄开发区</td>\n",
       "      <td>356</td>\n",
       "    </tr>\n",
       "  </tbody>\n",
       "</table>\n",
       "</div>"
      ]
     },
     "execution_count": 53,
     "metadata": {},
     "output_type": "execute_result"
    }
   ],
   "source": [
    "df_house_count"
   ]
  },
  {
   "cell_type": "code",
   "execution_count": 54,
   "metadata": {
    "collapsed": true
   },
   "outputs": [
    {
     "data": {
      "text/html": [
       "<div>\n",
       "<style>\n",
       "    .dataframe thead tr:only-child th {\n",
       "        text-align: right;\n",
       "    }\n",
       "\n",
       "    .dataframe thead th {\n",
       "        text-align: left;\n",
       "    }\n",
       "\n",
       "    .dataframe tbody tr th {\n",
       "        vertical-align: top;\n",
       "    }\n",
       "</style>\n",
       "<table border=\"1\" class=\"dataframe\">\n",
       "  <thead>\n",
       "    <tr style=\"text-align: right;\">\n",
       "      <th></th>\n",
       "      <th>Region</th>\n",
       "      <th>PerPrice</th>\n",
       "    </tr>\n",
       "  </thead>\n",
       "  <tbody>\n",
       "    <tr>\n",
       "      <th>0</th>\n",
       "      <td>西城</td>\n",
       "      <td>10.665906</td>\n",
       "    </tr>\n",
       "    <tr>\n",
       "      <th>1</th>\n",
       "      <td>东城</td>\n",
       "      <td>9.843156</td>\n",
       "    </tr>\n",
       "    <tr>\n",
       "      <th>2</th>\n",
       "      <td>海淀</td>\n",
       "      <td>8.969735</td>\n",
       "    </tr>\n",
       "    <tr>\n",
       "      <th>3</th>\n",
       "      <td>朝阳</td>\n",
       "      <td>7.524314</td>\n",
       "    </tr>\n",
       "    <tr>\n",
       "      <th>4</th>\n",
       "      <td>丰台</td>\n",
       "      <td>6.247067</td>\n",
       "    </tr>\n",
       "    <tr>\n",
       "      <th>5</th>\n",
       "      <td>大兴</td>\n",
       "      <td>5.985061</td>\n",
       "    </tr>\n",
       "    <tr>\n",
       "      <th>6</th>\n",
       "      <td>通州</td>\n",
       "      <td>5.623072</td>\n",
       "    </tr>\n",
       "    <tr>\n",
       "      <th>7</th>\n",
       "      <td>石景山</td>\n",
       "      <td>5.555820</td>\n",
       "    </tr>\n",
       "    <tr>\n",
       "      <th>8</th>\n",
       "      <td>顺义</td>\n",
       "      <td>5.510787</td>\n",
       "    </tr>\n",
       "    <tr>\n",
       "      <th>9</th>\n",
       "      <td>亦庄开发区</td>\n",
       "      <td>4.662084</td>\n",
       "    </tr>\n",
       "    <tr>\n",
       "      <th>10</th>\n",
       "      <td>昌平</td>\n",
       "      <td>4.456337</td>\n",
       "    </tr>\n",
       "    <tr>\n",
       "      <th>11</th>\n",
       "      <td>房山</td>\n",
       "      <td>4.330893</td>\n",
       "    </tr>\n",
       "    <tr>\n",
       "      <th>12</th>\n",
       "      <td>门头沟</td>\n",
       "      <td>4.014880</td>\n",
       "    </tr>\n",
       "  </tbody>\n",
       "</table>\n",
       "</div>"
      ],
      "text/plain": [
       "<div>\n",
       "<style>\n",
       "    .dataframe thead tr:only-child th {\n",
       "        text-align: right;\n",
       "    }\n",
       "\n",
       "    .dataframe thead th {\n",
       "        text-align: left;\n",
       "    }\n",
       "\n",
       "    .dataframe tbody tr th {\n",
       "        vertical-align: top;\n",
       "    }\n",
       "</style>\n",
       "<table border=\"1\" class=\"dataframe\">\n",
       "  <thead>\n",
       "    <tr style=\"text-align: right;\">\n",
       "      <th></th>\n",
       "      <th>Region</th>\n",
       "      <th>PerPrice</th>\n",
       "    </tr>\n",
       "  </thead>\n",
       "  <tbody>\n",
       "    <tr>\n",
       "      <th>0</th>\n",
       "      <td>西城</td>\n",
       "      <td>10.665906</td>\n",
       "    </tr>\n",
       "    <tr>\n",
       "      <th>1</th>\n",
       "      <td>东城</td>\n",
       "      <td>9.843156</td>\n",
       "    </tr>\n",
       "    <tr>\n",
       "      <th>2</th>\n",
       "      <td>海淀</td>\n",
       "      <td>8.969735</td>\n",
       "    </tr>\n",
       "    <tr>\n",
       "      <th>3</th>\n",
       "      <td>朝阳</td>\n",
       "      <td>7.524314</td>\n",
       "    </tr>\n",
       "    <tr>\n",
       "      <th>4</th>\n",
       "      <td>丰台</td>\n",
       "      <td>6.247067</td>\n",
       "    </tr>\n",
       "    <tr>\n",
       "      <th>5</th>\n",
       "      <td>大兴</td>\n",
       "      <td>5.985061</td>\n",
       "    </tr>\n",
       "    <tr>\n",
       "      <th>6</th>\n",
       "      <td>通州</td>\n",
       "      <td>5.623072</td>\n",
       "    </tr>\n",
       "    <tr>\n",
       "      <th>7</th>\n",
       "      <td>石景山</td>\n",
       "      <td>5.555820</td>\n",
       "    </tr>\n",
       "    <tr>\n",
       "      <th>8</th>\n",
       "      <td>顺义</td>\n",
       "      <td>5.510787</td>\n",
       "    </tr>\n",
       "    <tr>\n",
       "      <th>9</th>\n",
       "      <td>亦庄开发区</td>\n",
       "      <td>4.662084</td>\n",
       "    </tr>\n",
       "    <tr>\n",
       "      <th>10</th>\n",
       "      <td>昌平</td>\n",
       "      <td>4.456337</td>\n",
       "    </tr>\n",
       "    <tr>\n",
       "      <th>11</th>\n",
       "      <td>房山</td>\n",
       "      <td>4.330893</td>\n",
       "    </tr>\n",
       "    <tr>\n",
       "      <th>12</th>\n",
       "      <td>门头沟</td>\n",
       "      <td>4.014880</td>\n",
       "    </tr>\n",
       "  </tbody>\n",
       "</table>\n",
       "</div>"
      ]
     },
     "execution_count": 54,
     "metadata": {},
     "output_type": "execute_result"
    }
   ],
   "source": [
    "df_house_mean"
   ]
  },
  {
   "cell_type": "code",
   "execution_count": 86,
   "metadata": {},
   "outputs": [
    {
     "data": {
      "image/png": "[encoded data removed]",
      "text/plain": [
       "<matplotlib.figure.Figure at 0x227fb87a198>"
      ]
     },
     "metadata": {},
     "output_type": "display_data"
    }
   ],
   "source": [
    "f, [ax1,ax2] = plt.subplots(1, 2, figsize=(15, 5))\n",
    "# 建房时间的分布情况\n",
    "sns.distplot(df['Size'], bins=20, ax=ax1, color='r')\n",
    "sns.kdeplot(df['Size'], shade=True, ax=ax1)\n",
    "# 建房时间和出售价格的关系\n",
    "sns.regplot(x='Size', y='Price', data=df, ax=ax2)\n",
    "plt.show()"
   ]
  },
  {
   "cell_type": "code",
   "execution_count": 81,
   "metadata": {
    "collapsed": true
   },
   "outputs": [
    {
     "name": "stdout",
     "output_type": "stream",
     "text": [
      "      Region District   Garden Layout  Floor    Year  Size Elevator Direction  \\\n2337      房山       长阳     世茂维拉   叠拼别墅    5.0  2015.0   5.0       毛坯  240.97平米   \n2917      房山       长阳     世茂维拉   叠拼别墅    5.0  2015.0   5.0       毛坯  242.78平米   \n3595      房山       长阳     世茂维拉   叠拼别墅    5.0  2015.0   5.0       精装  242.96平米   \n4537      顺义     顺义其它    龙湖好望山   叠拼别墅    4.0  2014.0   4.0       精装  295.88平米   \n4549      顺义     顺义其它     鹭峯国际   叠拼别墅    4.0  2014.0   5.0       精装  295.01平米   \n4553      顺义     顺义其它    龙湖好望山   叠拼别墅    3.0  2014.0   4.0       毛坯  292.31平米   \n4865      顺义     顺义其它    龙湖好望山   叠拼别墅    5.0  2013.0   6.0       精装  294.42平米   \n8157      大兴      西红门    鸿坤林语墅   叠拼别墅    3.0  2015.0   4.0       精装   427.5平米   \n8159      大兴      西红门    鸿坤林语墅   叠拼别墅    4.0  2015.0   4.0       精装   361.8平米   \n9523      大兴      西红门    鸿坤林语墅   叠拼别墅    3.0  2015.0   5.0       精装  386.83平米   \n15067     昌平      回龙观   龙城花园N区   叠拼别墅    4.0  1997.0   2.0       简装  107.93平米   \n17531     通州     通州其它     旭辉御锦   叠拼别墅    6.0  2014.0   5.0       毛坯  195.32平米   \n18041     通州     通州其它     旭辉御锦   叠拼别墅    6.0  2014.0   4.0       精装  259.87平米   \n18161     通州     通州其它     旭辉御锦   叠拼别墅    6.0  2014.0   4.0       毛坯  259.76平米   \n18407     通州     通州其它     旭辉御锦   叠拼别墅    6.0  2014.0   4.0       精装  260.07平米   \n18509     通州     通州其它     旭辉御锦   叠拼别墅    6.0  2014.0   4.0       毛坯   264.6平米   \n23063     丰台       丽泽     西宸原著   叠拼别墅    6.0  2016.0   4.0       毛坯  335.51平米   \n28597     海淀       西山   中间建筑一区   叠拼别墅    3.0  2007.0   8.0       精装  266.61平米   \n30669     海淀       西山  西山美墅馆F区   叠拼别墅    4.0  2004.0   4.0       简装  203.73平米   \n34623     朝阳      大望路     首府官邸   叠拼别墅    5.0  2007.0   5.0       精装   523.4平米   \n\n      Renovation     PerPrice   Price  \n2337          南北   216.000000  1080.0  \n2917          南北   220.000000  1100.0  \n3595          南北   196.000000   980.0  \n4537          南北   250.000000  1000.0  \n4549          南北   290.000000  1450.0  \n4553          南北   215.000000   860.0  \n4865          南北   163.333333   980.0  \n8157          南北   787.500000  3150.0  \n8159          南北   595.000000  2380.0  \n9523          南北   540.000000  2700.0  \n15067         南北   310.000000   620.0  \n17531         南北   156.000000   780.0  \n18041         南北   280.000000  1120.0  \n18161         南北   262.500000  1050.0  \n18407         南北   262.500000  1050.0  \n18509         南北   275.000000  1100.0  \n23063         南北  1000.000000  4000.0  \n28597         南北   168.750000  1350.0  \n30669         南北   550.000000  2200.0  \n34623         南北   900.000000  4500.0  \n"
     ]
    }
   ],
   "source": [
    "print(df.loc[df['Size']< 10])"
   ]
  },
  {
   "cell_type": "code",
   "execution_count": 83,
   "metadata": {
    "collapsed": true
   },
   "outputs": [
    {
     "name": "stdout",
     "output_type": "stream",
     "text": [
      "      Region District   Garden Layout  Floor    Year    Size Elevator  \\\n17509     通州     通州其它  新华联科技大厦  1房间0卫    8.0  2009.0  1019.0      有电梯   \n\n      Direction Renovation  PerPrice   Price  \n17509         南         简装  1.668302  1700.0  \n"
     ]
    }
   ],
   "source": [
    "print(df.loc[df['Size']>1000])"
   ]
  },
  {
   "cell_type": "code",
   "execution_count": 85,
   "metadata": {},
   "outputs": [],
   "source": [
    "df = df[(df['Layout']!='叠拼别墅')&(df['Size']<1000)]"
   ]
  },
  {
   "cell_type": "code",
   "execution_count": 87,
   "metadata": {
    "collapsed": true
   },
   "outputs": [
    {
     "data": {
      "image/png": "[encoded data removed]",
      "text/plain": [
       "<matplotlib.figure.Figure at 0x227fcd795c0>"
      ]
     },
     "metadata": {},
     "output_type": "display_data"
    }
   ],
   "source": [
    "f, ax1= plt.subplots(figsize=(20,20))\n",
    "sns.countplot(y='Layout', data=df, ax=ax1)\n",
    "ax1.set_title('房屋户型',fontsize=15)\n",
    "ax1.set_xlabel('数量')\n",
    "ax1.set_ylabel('户型')\n",
    "plt.show()"
   ]
  },
  {
   "cell_type": "code",
   "execution_count": 91,
   "metadata": {},
   "outputs": [
    {
     "data": {
      "text/plain": [
       "精装    7262\n简装    5689\n其他    2119\n毛坯     349\nName: Renovation, dtype: int64"
      ]
     },
     "execution_count": 91,
     "metadata": {},
     "output_type": "execute_result"
    }
   ],
   "source": [
    "df['Renovation'].value_counts()"
   ]
  },
  {
   "cell_type": "code",
   "execution_count": 92,
   "metadata": {},
   "outputs": [
    {
     "data": {
      "image/png": "[encoded data removed]",
      "text/plain": [
       "<matplotlib.figure.Figure at 0x227fb68cdd8>"
      ]
     },
     "metadata": {},
     "output_type": "display_data"
    }
   ],
   "source": [
    "# 去掉错误数据“南北”，因为爬虫过程中一些信息位置为空，导致“Direction”的特征出现在这里，需要清除或替换\n",
    "df['Renovation'] = df.loc[(df['Renovation'] != '南北'), 'Renovation']\n",
    "\n",
    "# 画幅设置\n",
    "f, [ax1,ax2,ax3] = plt.subplots(1, 3, figsize=(20, 5))\n",
    "sns.countplot(df['Renovation'], ax=ax1)\n",
    "sns.barplot(x='Renovation', y='Price', data=df, ax=ax2)\n",
    "sns.boxplot(x='Renovation', y='Price', data=df, ax=ax3)\n",
    "plt.show()"
   ]
  },
  {
   "cell_type": "code",
   "execution_count": 93,
   "metadata": {},
   "outputs": [
    {
     "name": "stdout",
     "output_type": "stream",
     "text": [
      "Elevator缺失值数量为：0\n"
     ]
    }
   ],
   "source": [
    "misn = len(df.loc[(df['Elevator'].isnull()), 'Elevator'])\n",
    "print('Elevator缺失值数量为：'+ str(misn))"
   ]
  },
  {
   "cell_type": "code",
   "execution_count": 94,
   "metadata": {},
   "outputs": [
    {
     "data": {
      "image/png": "[encoded data removed]",
      "text/plain": [
       "<matplotlib.figure.Figure at 0x227fc03c128>"
      ]
     },
     "metadata": {},
     "output_type": "display_data"
    }
   ],
   "source": [
    "# 由于存在个别类型错误，如简装和精装，特征值错位，故需要移除\n",
    "df['Elevator'] = df.loc[(df['Elevator'] == '有电梯')|(df['Elevator'] == '无电梯'), 'Elevator']\n",
    "\n",
    "# 填补Elevator缺失值\n",
    "df.loc[(df['Floor']>6)&(df['Elevator'].isnull()), 'Elevator'] = '有电梯'\n",
    "df.loc[(df['Floor']<=6)&(df['Elevator'].isnull()), 'Elevator'] = '无电梯'\n",
    "\n",
    "f, [ax1,ax2] = plt.subplots(1, 2, figsize=(20, 10))\n",
    "sns.countplot(df['Elevator'], ax=ax1)\n",
    "ax1.set_title('有无电梯数量对比',fontsize=15)\n",
    "ax1.set_xlabel('是否有电梯')\n",
    "ax1.set_ylabel('数量')\n",
    "sns.barplot(x='Elevator', y='Price', data=df, ax=ax2)\n",
    "ax2.set_title('有无电梯房价对比',fontsize=15)\n",
    "ax2.set_xlabel('是否有电梯')\n",
    "ax2.set_ylabel('总价')\n",
    "plt.show()"
   ]
  },
  {
   "cell_type": "code",
   "execution_count": 99,
   "metadata": {},
   "outputs": [
    {
     "name": "stdout",
     "output_type": "stream",
     "text": [
      "<seaborn.axisgrid.FacetGrid object at 0x00000227818B6470>\n"
     ]
    }
   ],
   "source": [
    "grid = sns.FacetGrid(df, row='Elevator', col='Renovation', palette='seismic',size=4)\n",
    "grid.map(plt.scatter, 'Year', 'Price')\n",
    "grid.add_legend()"
   ]
  },
  {
   "cell_type": "code",
   "execution_count": 98,
   "metadata": {},
   "outputs": [
    {
     "data": {
      "text/plain": [
       "<seaborn.axisgrid.FacetGrid at 0x227fc16d2b0>"
      ]
     },
     "execution_count": 98,
     "metadata": {},
     "output_type": "execute_result"
    }
   ],
   "source": [
    "grid = sns.FacetGrid(df, row='Elevator', col='Renovation', palette='seismic',size=4)\n",
    "grid.map(plt.scatter, 'Year', 'Price')\n",
    "grid.add_legend()"
   ]
  },
  {
   "cell_type": "code",
   "execution_count": 100,
   "metadata": {
    "collapsed": false
   },
   "outputs": [
    {
     "data": {
      "image/png": "[encoded data removed]",
      "text/plain": [
       "<matplotlib.figure.Figure at 0x227832e51d0>"
      ]
     },
     "metadata": {},
     "output_type": "display_data"
    }
   ],
   "source": [
    "f, ax1= plt.subplots(figsize=(20,5))\n",
    "sns.countplot(x='Floor', data=df, ax=ax1)\n",
    "ax1.set_title('房屋户型',fontsize=15)\n",
    "ax1.set_xlabel('数量')\n",
    "ax1.set_ylabel('户型')\n",
    "plt.show()"
   ]
  },
  {
   "cell_type": "markdown",
   "metadata": {},
   "source": [
    "https://mp.weixin.qq.com/s/6aCI9PABHZccThrGqak6Lg"
   ]
  },
  {
   "cell_type": "code",
   "execution_count": 119,
   "metadata": {},
   "outputs": [
    {
     "name": "stderr",
     "output_type": "stream",
     "text": [
      "C:\\Users\\jinxinqiang\\Anaconda3\\lib\\site-packages\\ipykernel_launcher.py:16: FutureWarning: currently extract(expand=None) means expand=False (return Index/Series/DataFrame) but in a future version of pandas this will be changed to expand=True (return DataFrame)\n  app.launch_new_instance()\n"
     ]
    }
   ],
   "source": [
    " \"\"\"\n",
    " 特征工程\n",
    " \"\"\"\n",
    " # 移除结构类型异常值和房屋大小异常值\n",
    "df = df[(df['Layout']!='叠拼别墅')&(df['Size']<1000)]\n",
    " \n",
    "# 去掉错误数据“南北”，因为爬虫过程中一些信息位置为空，导致“Direction”的特征出现在这里，需要清除或替换\n",
    "df['Renovation'] = df.loc[(df['Renovation'] != '南北'), 'Renovation']\n",
    " \n",
    "# 由于存在个别类型错误，如简装和精装，特征值错位，故需要移除\n",
    "df['Elevator'] = df.loc[(df['Elevator'] == '有电梯')|(df['Elevator'] == '无电梯'), 'Elevator']\n",
    "# 填补Elevator缺失值\n",
    "df.loc[(df['Floor']>6)&(df['Elevator'].isnull()), 'Elevator'] = '有电梯'\n",
    "df.loc[(df['Floor']<=6)&(df['Elevator'].isnull()), 'Elevator'] = '无电梯'\n",
    "# 只考虑“室”和“厅”，将其它少数“房间”和“卫”移除\n",
    "df = df.loc[df['Layout'].str.extract('^\\d(.*?)\\d.*?') == '室']\n",
    "# 提取“室”和“厅”创建新特征\n",
    "df['Layout_room_num'] = df['Layout'].str.extract('(^\\d).*', expand=False).astype('int64')\n",
    "df['Layout_hall_num'] = df['Layout'].str.extract('^\\d.*?(\\d).*', expand=False).astype('int64')\n",
    "\n"
   ]
  },
  {
   "cell_type": "code",
   "execution_count": 120,
   "metadata": {},
   "outputs": [],
   "source": [
    "# 按中位数对“Year”特征进行分箱\n",
    "df['Year'] = pd.qcut(df['Year'],8).astype('object')"
   ]
  },
  {
   "cell_type": "code",
   "execution_count": 122,
   "metadata": {},
   "outputs": [
    {
     "data": {
      "text/plain": [
       "(2000.0, 2003.0]      2521\n(2004.0, 2007.0]      2236\n(1990.0, 1997.0]      2046\n(1997.0, 2000.0]      1965\n(1949.999, 1990.0]    1930\n(2007.0, 2010.0]      1678\n(2010.0, 2016.0]      1492\n(2003.0, 2004.0]      1187\nName: Year, dtype: int64"
      ]
     },
     "execution_count": 122,
     "metadata": {},
     "output_type": "execute_result"
    }
   ],
   "source": [
    "df['Year'].value_counts()"
   ]
  },
  {
   "cell_type": "code",
   "execution_count": 123,
   "metadata": {
    "collapsed": false
   },
   "outputs": [
    {
     "data": {
      "text/plain": [
       "南北        7210\n南         1710\n东西         955\n东南         871\n西南         777\n西          553\n东          552\n西北         516\n东北         439\n北          356\n东南北        308\n南西北        248\n南西         117\n东西北        102\n东南西         95\n西南北         79\n东南西北        34\n西南东北        19\n南东北         17\n东南西南        12\n东南南         11\n西南西北         8\n东西南          8\n西东北          7\n东东南          6\n南西南          6\n东南东北         5\n东南南北         4\n西南西          2\n南东           2\n南西南北         2\n东东北          2\n西北北          2\n南西东北         2\n西西南          2\n南西南西         2\n东西南北         1\n东南南西北        1\n东南西北北        1\n西南西北北        1\n南北东北         1\n东西北北         1\n东南西南北        1\n东南西南东北       1\n西北东北         1\n南北东          1\n东南北西         1\n东东南南         1\n北南           1\n东西东北         1\nName: Direction, dtype: int64"
      ]
     },
     "execution_count": 123,
     "metadata": {},
     "output_type": "execute_result"
    }
   ],
   "source": [
    "df['Direction'].value_counts()"
   ]
  },
  {
   "cell_type": "code",
   "execution_count": 124,
   "metadata": {},
   "outputs": [],
   "source": [
    "# 对“Direction”特征\n",
    "d_list_one = ['东','西','南','北']\n",
    "d_list_two = ['东西','东南','东北','西南','西北','南北']\n",
    "d_list_three = ['东西南','东西北','东南北','西南北']\n",
    "d_list_four = ['东西南北']  \n",
    "df['Direction'] = df['Direction'].apply(direct_func)\n",
    "df = df.loc[(df['Direction']!='no')&(df['Direction']!='nan')]"
   ]
  },
  {
   "cell_type": "code",
   "execution_count": 125,
   "metadata": {},
   "outputs": [],
   "source": [
    "# 根据已有特征创建新特征\n",
    "df['Layout_total_num'] = df['Layout_room_num'] + df['Layout_hall_num']\n",
    "df['Size_room_ratio'] = df['Size']/df['Layout_total_num']\n",
    "\n",
    "# 删除无用特征\n",
    "df = df.drop(['Layout','PerPrice','Garden'],axis=1)"
   ]
  },
  {
   "cell_type": "code",
   "execution_count": 126,
   "metadata": {},
   "outputs": [
    {
     "ename": "NameError",
     "evalue": "name 'one_hot_encoder' is not defined",
     "traceback": [
      "\u001b[1;31m---------------------------------------------------------------------------\u001b[0m",
      "\u001b[1;31mNameError\u001b[0m                                 Traceback (most recent call last)",
      "\u001b[1;32m<ipython-input-126-6812a119673d>\u001b[0m in \u001b[0;36m<module>\u001b[1;34m()\u001b[0m\n\u001b[0;32m      1\u001b[0m \u001b[1;31m# 对于object特征进行onehot编码\u001b[0m\u001b[1;33m\u001b[0m\u001b[1;33m\u001b[0m\u001b[0m\n\u001b[1;32m----> 2\u001b[1;33m \u001b[0mdf\u001b[0m\u001b[1;33m,\u001b[0m\u001b[0mdf_cat\u001b[0m \u001b[1;33m=\u001b[0m \u001b[0mone_hot_encoder\u001b[0m\u001b[1;33m(\u001b[0m\u001b[0mdf\u001b[0m\u001b[1;33m)\u001b[0m\u001b[1;33m\u001b[0m\u001b[0m\n\u001b[0m",
      "\u001b[1;31mNameError\u001b[0m: name 'one_hot_encoder' is not defined"
     ],
     "output_type": "error"
    }
   ],
   "source": [
    "# 对于object特征进行onehot编码\n",
    "df,df_cat = one_hot_encoder(df)"
   ]
  },
  {
   "cell_type": "code",
   "execution_count": 128,
   "metadata": {
    "collapsed": true
   },
   "outputs": [
    {
     "data": {
      "text/plain": [
       "0    a\n1    b\n2    c\n3    a\ndtype: object"
      ]
     },
     "execution_count": 128,
     "metadata": {},
     "output_type": "execute_result"
    }
   ],
   "source": [
    "s = pd.Series(list('abca'))\n",
    "s"
   ]
  },
  {
   "cell_type": "code",
   "execution_count": 135,
   "metadata": {
    "collapsed": true
   },
   "outputs": [
    {
     "data": {
      "text/html": [
       "<div>\n",
       "<style>\n",
       "    .dataframe thead tr:only-child th {\n",
       "        text-align: right;\n",
       "    }\n",
       "\n",
       "    .dataframe thead th {\n",
       "        text-align: left;\n",
       "    }\n",
       "\n",
       "    .dataframe tbody tr th {\n",
       "        vertical-align: top;\n",
       "    }\n",
       "</style>\n",
       "<table border=\"1\" class=\"dataframe\">\n",
       "  <thead>\n",
       "    <tr style=\"text-align: right;\">\n",
       "      <th></th>\n",
       "      <th>a</th>\n",
       "      <th>b</th>\n",
       "      <th>c</th>\n",
       "    </tr>\n",
       "  </thead>\n",
       "  <tbody>\n",
       "    <tr>\n",
       "      <th>0</th>\n",
       "      <td>1</td>\n",
       "      <td>0</td>\n",
       "      <td>0</td>\n",
       "    </tr>\n",
       "    <tr>\n",
       "      <th>1</th>\n",
       "      <td>0</td>\n",
       "      <td>1</td>\n",
       "      <td>0</td>\n",
       "    </tr>\n",
       "    <tr>\n",
       "      <th>2</th>\n",
       "      <td>0</td>\n",
       "      <td>0</td>\n",
       "      <td>1</td>\n",
       "    </tr>\n",
       "    <tr>\n",
       "      <th>3</th>\n",
       "      <td>1</td>\n",
       "      <td>0</td>\n",
       "      <td>0</td>\n",
       "    </tr>\n",
       "  </tbody>\n",
       "</table>\n",
       "</div>"
      ],
      "text/plain": [
       "<div>\n",
       "<style>\n",
       "    .dataframe thead tr:only-child th {\n",
       "        text-align: right;\n",
       "    }\n",
       "\n",
       "    .dataframe thead th {\n",
       "        text-align: left;\n",
       "    }\n",
       "\n",
       "    .dataframe tbody tr th {\n",
       "        vertical-align: top;\n",
       "    }\n",
       "</style>\n",
       "<table border=\"1\" class=\"dataframe\">\n",
       "  <thead>\n",
       "    <tr style=\"text-align: right;\">\n",
       "      <th></th>\n",
       "      <th>a</th>\n",
       "      <th>b</th>\n",
       "      <th>c</th>\n",
       "    </tr>\n",
       "  </thead>\n",
       "  <tbody>\n",
       "    <tr>\n",
       "      <th>0</th>\n",
       "      <td>1</td>\n",
       "      <td>0</td>\n",
       "      <td>0</td>\n",
       "    </tr>\n",
       "    <tr>\n",
       "      <th>1</th>\n",
       "      <td>0</td>\n",
       "      <td>1</td>\n",
       "      <td>0</td>\n",
       "    </tr>\n",
       "    <tr>\n",
       "      <th>2</th>\n",
       "      <td>0</td>\n",
       "      <td>0</td>\n",
       "      <td>1</td>\n",
       "    </tr>\n",
       "    <tr>\n",
       "      <th>3</th>\n",
       "      <td>1</td>\n",
       "      <td>0</td>\n",
       "      <td>0</td>\n",
       "    </tr>\n",
       "  </tbody>\n",
       "</table>\n",
       "</div>"
      ]
     },
     "execution_count": 135,
     "metadata": {},
     "output_type": "execute_result"
    }
   ],
   "source": [
    "pd.get_dummies(s)"
   ]
  },
  {
   "cell_type": "code",
   "execution_count": 137,
   "metadata": {
    "collapsed": true
   },
   "outputs": [
    {
     "data": {
      "text/plain": [
       "<matplotlib.axes._subplots.AxesSubplot at 0x22785920710>"
      ]
     },
     "execution_count": 137,
     "metadata": {},
     "output_type": "execute_result"
    },
    {
     "data": {
      "image/png": "[encoded data removed]",
      "text/plain": [
       "<matplotlib.figure.Figure at 0x22783a05630>"
      ]
     },
     "metadata": {},
     "output_type": "display_data"
    }
   ],
   "source": [
    "# data_corr \n",
    "colormap = plt.cm.RdBu\n",
    "plt.figure(figsize=(20,20))\n",
    "# plt.title('Pearson Correlation of Features', y=1.05, size=15)\n",
    "sns.heatmap(df.corr(),linewidths=0.1,vmax=1.0, square=True, cmap=colormap, linecolor='white', annot=True)"
   ]
  },
  {
   "cell_type": "markdown",
   "metadata": {},
   "source": [
    "为了方便理解，博主在建模上做了一些精简，模型策略方法如下：\n",
    "\n",
    "使用Cart决策树的回归模型对二手房房价进行分析预测\n",
    "\n",
    "使用交叉验证方法充分利用数据集进行训练，避免数据划分不均匀的影响。\n",
    "\n",
    "使用GridSearchCV方法优化模型参数\n",
    "\n",
    "使用R2评分方法对模型预测评分"
   ]
  },
  {
   "cell_type": "code",
   "execution_count": 139,
   "metadata": {
    "collapsed": true
   },
   "outputs": [
    {
     "name": "stdout",
     "output_type": "stream",
     "text": [
      "   Region District  Floor                Year   Size Elevator Direction  \\\n3      东城       东单    6.0  (1949.999, 1990.0]   60.0      无电梯        南北   \n5      东城      崇文门   16.0    (1990.0, 1997.0]  210.0      有电梯        南西   \n9      东城      陶然亭   19.0    (2007.0, 2010.0]   90.0      有电梯         南   \n11     东城      广渠门   18.0    (2000.0, 2003.0]  111.0      有电梯        南北   \n13     东城      西罗园    6.0    (1990.0, 1997.0]   42.0      无电梯         南   \n\n   Renovation   Price  Layout_room_num  Layout_hall_num  Layout_total_num  \\\n3          精装   705.0                2                1                 3   \n5          其他  1400.0                3                1                 4   \n9          精装   998.0                2                2                 4   \n11         其他  1180.0                2                1                 3   \n13         其他   319.0                1                1                 2   \n\n    Size_room_ratio  \n3              20.0  \n5              52.5  \n9              22.5  \n11             37.0  \n13             21.0  \n"
     ]
    }
   ],
   "source": [
    "print(df.head(5))"
   ]
  },
  {
   "cell_type": "code",
   "execution_count": 140,
   "metadata": {
    "collapsed": true
   },
   "outputs": [
    {
     "ename": "NameError",
     "evalue": "name 'features' is not defined",
     "traceback": [
      "\u001b[1;31m---------------------------------------------------------------------------\u001b[0m",
      "\u001b[1;31mNameError\u001b[0m                                 Traceback (most recent call last)",
      "\u001b[1;32m<ipython-input-140-7ad070978544>\u001b[0m in \u001b[0;36m<module>\u001b[1;34m()\u001b[0m\n\u001b[0;32m      1\u001b[0m \u001b[1;31m# 转换训练测试集格式为数组\u001b[0m\u001b[1;33m\u001b[0m\u001b[1;33m\u001b[0m\u001b[0m\n\u001b[1;32m----> 2\u001b[1;33m \u001b[0mfeatures\u001b[0m \u001b[1;33m=\u001b[0m \u001b[0mnp\u001b[0m\u001b[1;33m.\u001b[0m\u001b[0marray\u001b[0m\u001b[1;33m(\u001b[0m\u001b[0mfeatures\u001b[0m\u001b[1;33m)\u001b[0m\u001b[1;33m\u001b[0m\u001b[0m\n\u001b[0m\u001b[0;32m      3\u001b[0m \u001b[0mprices\u001b[0m \u001b[1;33m=\u001b[0m \u001b[0mnp\u001b[0m\u001b[1;33m.\u001b[0m\u001b[0marray\u001b[0m\u001b[1;33m(\u001b[0m\u001b[0mprices\u001b[0m\u001b[1;33m)\u001b[0m\u001b[1;33m\u001b[0m\u001b[0m\n\u001b[0;32m      4\u001b[0m \u001b[1;31m# 导入sklearn进行训练测试集划分\u001b[0m\u001b[1;33m\u001b[0m\u001b[1;33m\u001b[0m\u001b[0m\n\u001b[0;32m      5\u001b[0m \u001b[1;32mfrom\u001b[0m \u001b[0msklearn\u001b[0m\u001b[1;33m.\u001b[0m\u001b[0mmodel_selection\u001b[0m \u001b[1;32mimport\u001b[0m \u001b[0mtrain_test_split\u001b[0m\u001b[1;33m\u001b[0m\u001b[0m\n",
      "\u001b[1;31mNameError\u001b[0m: name 'features' is not defined"
     ],
     "output_type": "error"
    }
   ],
   "source": [
    "# 转换训练测试集格式为数组\n",
    "features = np.array(features)\n",
    "prices = np.array(prices)\n",
    "# 导入sklearn进行训练测试集划分\n",
    "from sklearn.model_selection import train_test_split\n",
    "features_train, features_test, prices_train, prices_test = train_test_split(features, prices, test_size=0.2, random_state=0)"
   ]
  },
  {
   "cell_type": "code",
   "execution_count": null,
   "metadata": {},
   "outputs": [],
   "source": [
    " 1from sklearn.model_selection import KFold\n",
    " 2from sklearn.tree import DecisionTreeRegressor\n",
    " 3from sklearn.metrics import make_scorer\n",
    " 4from sklearn.model_selection import GridSearchCV\n",
    " 5\n",
    " 6# 利用GridSearchCV计算最优解\n",
    " 7def fit_model(X, y):\n",
    " 8    \"\"\" 基于输入数据 [X,y]，利于网格搜索找到最优的决策树模型\"\"\"\n",
    " 9\n",
    "10    cross_validator = KFold(10, shuffle=True)\n",
    "11    regressor = DecisionTreeRegressor()\n",
    "12\n",
    "13    params = {'max_depth':[1,2,3,4,5,6,7,8,9,10]}\n",
    "14    scoring_fnc = make_scorer(performance_metric)\n",
    "15    grid = GridSearchCV(estimator = regressor, param_grid = params, scoring = scoring_fnc, cv = cross_validator)\n",
    "16\n",
    "17    # 基于输入数据 [X,y]，进行网格搜索\n",
    "18    grid = grid.fit(X, y)\n",
    "19#     print pd.DataFrame(grid.cv_results_)\n",
    "20    return grid.best_estimator_\n",
    "21\n",
    "22# 计算R2分数\n",
    "23def performance_metric(y_true, y_predict):\n",
    "24    \"\"\"计算并返回预测值相比于预测值的分数\"\"\"\n",
    "25    from sklearn.metrics import r2_score\n",
    "26    score = r2_score(y_true, y_predict)\n",
    "27\n",
    "28    return score"
   ]
  },
  {
   "cell_type": "code",
   "execution_count": null,
   "metadata": {},
   "outputs": [],
   "source": [
    "调参优化模型\n",
    " 1import visuals as vs\n",
    " 2\n",
    " 3# 分析模型\n",
    " 4vs.ModelLearning(features_train, prices_train)\n",
    " 5vs.ModelComplexity(features_train, prices_train)\n",
    " 6\n",
    " 7optimal_reg1 = fit_model(features_train, prices_train)\n",
    " 8\n",
    " 9# 输出最优模型的 'max_depth' 参数\n",
    "10print(\"最理想模型的参数 'max_depth' 是 {} 。\".format(optimal_reg1.get_params()['max_depth']))\n",
    "11\n",
    "12predicted_value = optimal_reg1.predict(features_test)\n",
    "13r2 = performance_metric(prices_test, predicted_value)\n",
    "14\n",
    "15print(\"最优模型在测试数据上 R^2 分数 {:,.2f}。\".format(r2))"
   ]
  }
 ],
 "metadata": {
  "kernelspec": {
   "display_name": "Python 2",
   "language": "python",
   "name": "python2"
  },
  "language_info": {
   "codemirror_mode": {
    "name": "ipython",
    "version": 2
   },
   "file_extension": ".py",
   "mimetype": "text/x-python",
   "name": "python",
   "nbconvert_exporter": "python",
   "pygments_lexer": "ipython2",
   "version": "2.7.6"
  }
 },
 "nbformat": 4,
 "nbformat_minor": 0
}
